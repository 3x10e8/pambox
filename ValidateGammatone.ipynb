{
 "metadata": {
  "name": ""
 },
 "nbformat": 3,
 "nbformat_minor": 0,
 "worksheets": [
  {
   "cells": [
    {
     "cell_type": "code",
     "collapsed": false,
     "input": [
      "import sepsm\n",
      "import numpy as np\n",
      "import scipy as sp \n",
      "import scipy.signal\n",
      "import matplotlib.pyplot as plt\n",
      "import scipy.io as sio\n",
      "%pdb off\n",
      "import time\n",
      "import filterbank\n",
      "from matplotlib.collections import LineCollection"
     ],
     "language": "python",
     "metadata": {},
     "outputs": [],
     "prompt_number": ""
    },
    {
     "cell_type": "code",
     "collapsed": false,
     "input": [
      "from auditory import gammatonefir"
     ],
     "language": "python",
     "metadata": {},
     "outputs": [],
     "prompt_number": ""
    },
    {
     "cell_type": "code",
     "collapsed": false,
     "input": [
      "mat = sio.loadmat(\"./test_files/test_gammatone_filtering.mat\")\n",
      "midfreq = mat['midfreq'][0].astype('float')\n",
      "fs = mat['fs'].astype('float')\n",
      "signal = mat['signal'].T.astype('float')\n",
      "## Target, first index is for speech only.\n",
      "target = mat['GT_output'][:, :, 0].T\n",
      "plot(signal)"
     ],
     "language": "python",
     "metadata": {},
     "outputs": [],
     "prompt_number": ""
    },
    {
     "cell_type": "markdown",
     "metadata": {},
     "source": [
      "## Filtering"
     ]
    },
    {
     "cell_type": "markdown",
     "metadata": {},
     "source": [
      "Create a filter of the same length as the signal so that I don't have to do the middle padding myself. It would probably be a better idea to do so, though. I could port `middlepad` from LTFAT. \n",
      "\n",
      "The filter length has to be even."
     ]
    },
    {
     "cell_type": "code",
     "collapsed": false,
     "input": [
      "b = gammatonefir(midfreq, np.array(22050.)) \n",
      "print(b.shape)"
     ],
     "language": "python",
     "metadata": {},
     "outputs": [],
     "prompt_number": ""
    },
    {
     "cell_type": "markdown",
     "metadata": {},
     "source": [
      "The filter now has zeroes in the middle and has the right length."
     ]
    },
    {
     "cell_type": "code",
     "collapsed": false,
     "input": [
      "plot(np.real(b[0]))"
     ],
     "language": "python",
     "metadata": {},
     "outputs": [],
     "prompt_number": ""
    },
    {
     "cell_type": "markdown",
     "metadata": {},
     "source": [
      "Now if we look at the spectrum of that filter:"
     ]
    },
    {
     "cell_type": "code",
     "collapsed": false,
     "input": [
      "log_spectrum = 20.*sp.log10(np.abs(sp.fftpack.fft(b[10])))\n",
      "plot(sp.linspace(0,11025,5000), log_spectrum)"
     ],
     "language": "python",
     "metadata": {},
     "outputs": [],
     "prompt_number": ""
    },
    {
     "cell_type": "code",
     "collapsed": false,
     "input": [
      "filterbank.mfreqz(b[10], 1.0, 22050.)"
     ],
     "language": "python",
     "metadata": {},
     "outputs": [],
     "prompt_number": ""
    },
    {
     "cell_type": "markdown",
     "metadata": {},
     "source": [
      "Now if we use the real output of the function."
     ]
    },
    {
     "cell_type": "code",
     "collapsed": false,
     "input": [
      "b_real = gammatonefir(midfreq, np.array(22050.), ftype='real') \n",
      "b_real_shifted = sp.fftpack.fftshift(b_real[10])\n",
      "plot(b_real_shifted[2300:])"
     ],
     "language": "python",
     "metadata": {},
     "outputs": [],
     "prompt_number": ""
    },
    {
     "cell_type": "code",
     "collapsed": false,
     "input": [
      "b_real_spectrum = sp.fftpack.fft(b_real_shifted[2300:])\n",
      "plot(b_real_spectrum)"
     ],
     "language": "python",
     "metadata": {},
     "outputs": [],
     "prompt_number": ""
    },
    {
     "cell_type": "markdown",
     "metadata": {},
     "source": [
      "Do the actual filtering."
     ]
    },
    {
     "cell_type": "code",
     "collapsed": false,
     "input": [
      "tstart = time.time()\n",
      "y = np.array([2 * np.real(sp.signal.fftconvolve(signal.flat, den, mode='full')[0:len(signal)]) for den in b])\n",
      "print(time.time() - tstart)"
     ],
     "language": "python",
     "metadata": {},
     "outputs": [],
     "prompt_number": ""
    },
    {
     "cell_type": "code",
     "collapsed": false,
     "input": [
      "tstart = time.time()\n",
      "y2 = np.empty((b.shape[0], signal.shape[0]))\n",
      "for ii, den in enumerate(b):\n",
      "    y2[ii] = np.real(sp.signal.fftconvolve(signal.flat, den, mode='full')[0:len(signal)].flat)\n",
      "print(time.time() - tstart)"
     ],
     "language": "python",
     "metadata": {},
     "outputs": [],
     "prompt_number": ""
    },
    {
     "cell_type": "code",
     "collapsed": false,
     "input": [
      "print(y.shape)\n",
      "subplot(211)\n",
      "plot(y[1])\n",
      "subplot(212)\n",
      "plot(y[21])"
     ],
     "language": "python",
     "metadata": {},
     "outputs": [],
     "prompt_number": ""
    },
    {
     "cell_type": "markdown",
     "metadata": {},
     "source": [
      "## Testing of equality with MATLAB implementation"
     ]
    },
    {
     "cell_type": "code",
     "collapsed": false,
     "input": [
      "np.testing.assert_allclose(y, target, atol=1e-5)"
     ],
     "language": "python",
     "metadata": {},
     "outputs": [],
     "prompt_number": ""
    },
    {
     "cell_type": "code",
     "collapsed": false,
     "input": [
      "f, axarr = plt.subplots(4,4, sharex=True, sharey=True)\n",
      "for ii in np.arange(16):\n",
      "    axarr[ii % 4, floor(ii/4)].plot(target[ii, ::100])\n",
      "    axarr[ii % 4, floor(ii/4)].plot(y[ii, ::100])\n",
      "axarr[0,0].set_ylim([-0.1, 0.1])\n",
      "axarr[0,0].set_xlim([0, 350])\n",
      "plt.legend(('target','y'))\n",
      "f.set_size_inches(12,10)"
     ],
     "language": "python",
     "metadata": {},
     "outputs": [],
     "prompt_number": ""
    },
    {
     "cell_type": "markdown",
     "metadata": {},
     "source": [
      "## Test effect of filter length"
     ]
    },
    {
     "cell_type": "code",
     "collapsed": false,
     "input": [
      "b = gammatonefir(np.array([250.]), 22050., n=len(signal)+1)\n",
      "print(b.shape)"
     ],
     "language": "python",
     "metadata": {},
     "outputs": [],
     "prompt_number": ""
    },
    {
     "cell_type": "code",
     "collapsed": false,
     "input": [
      "y2 = np.empty((b.shape[0], signal.shape[0]))\n",
      "for ii, den in enumerate(b):\n",
      "    y2[ii] = np.real(sp.signal.fftconvolve(signal.flat, den, mode='full')[0:len(signal)].flat)\n",
      "    \n",
      "plot(y2)\n",
      "plot(target[6])"
     ],
     "language": "python",
     "metadata": {},
     "outputs": [],
     "prompt_number": ""
    },
    {
     "cell_type": "markdown",
     "metadata": {},
     "source": [
      "# Test the GammatoneApply code"
     ]
    },
    {
     "cell_type": "code",
     "collapsed": false,
     "input": [
      "import gammatone as gt"
     ],
     "language": "python",
     "metadata": {},
     "outputs": [],
     "prompt_number": ""
    },
    {
     "cell_type": "code",
     "collapsed": false,
     "input": [
      "b_gtm, a_gtm, _, _, _ = gt.GammaToneMake(22050, midfreq)"
     ],
     "language": "python",
     "metadata": {},
     "outputs": [],
     "prompt_number": ""
    },
    {
     "cell_type": "code",
     "collapsed": false,
     "input": [
      "filterbank.mfreqz(b_gtm[10], a_gtm[10], 22050.)"
     ],
     "language": "python",
     "metadata": {},
     "outputs": [],
     "prompt_number": ""
    },
    {
     "cell_type": "code",
     "collapsed": false,
     "input": [
      "tstart = time.time()\n",
      "y_gtm = gt.GammaToneApply(signal.squeeze(), b_gtm, a_gtm)\n",
      "print(time.time() - tstart)"
     ],
     "language": "python",
     "metadata": {},
     "outputs": [],
     "prompt_number": ""
    },
    {
     "cell_type": "markdown",
     "metadata": {},
     "source": [
      "This implementation is definitely faster than using the gammatonefir implementation. It's probably because it don't know how to use the other one correctly..."
     ]
    },
    {
     "cell_type": "code",
     "collapsed": false,
     "input": [
      "from general import rms"
     ],
     "language": "python",
     "metadata": {},
     "outputs": [],
     "prompt_number": ""
    },
    {
     "cell_type": "code",
     "collapsed": false,
     "input": [
      "rms_data = sp.zeros(16)\n",
      "rms_gtm = rms_data.copy()\n",
      "for ii in np.arange(16):\n",
      "    rms_data[ii] = rms(target[ii])\n",
      "    rms_gtm[ii] = rms(y_gtm[ii])\n",
      "plot(rms_data)\n",
      "plot(rms_gtm)\n",
      "legend(('Data','Gtm'))\n",
      "xlabel('Frequency bin')\n",
      "ylabel('RMS')"
     ],
     "language": "python",
     "metadata": {},
     "outputs": [],
     "prompt_number": ""
    },
    {
     "cell_type": "markdown",
     "metadata": {},
     "source": [
      "The per-band RMS is different for the `target` and `filtered_speech`. It seems to be about a factor of 2."
     ]
    },
    {
     "cell_type": "code",
     "collapsed": false,
     "input": [
      "plot(sp.true_divide(rms_data, rms_gtm))\n",
      "ylim((0,6))\n",
      "xlabel('Frequency bin')\n",
      "ylabel('Ratio between data and gtm RMS')"
     ],
     "language": "python",
     "metadata": {},
     "outputs": [],
     "prompt_number": ""
    },
    {
     "cell_type": "markdown",
     "metadata": {},
     "source": [
      "Right, it's a factor of two. I don't know where it comes from... \n",
      "\n",
      "Now plot all the bands from the target and the filtered speech, with the scaling of two."
     ]
    },
    {
     "cell_type": "code",
     "collapsed": false,
     "input": [
      "f, axarr = plt.subplots(4,4, sharex=True, sharey=True)\n",
      "for ii in np.arange(16):\n",
      "    axarr[ii % 4, floor(ii/4)].plot(target[ii, ::100],'b')\n",
      "    axarr[ii % 4, floor(ii/4)].plot(2 * y_gtm[ii, ::100],'g')\n",
      "axarr[0,0].set_ylim([-0.1, 0.1])\n",
      "axarr[0,0].set_xlim([0, 350])\n",
      "plt.legend(('target','y'))\n",
      "f.set_size_inches(12,10)"
     ],
     "language": "python",
     "metadata": {},
     "outputs": [],
     "prompt_number": ""
    },
    {
     "cell_type": "markdown",
     "metadata": {},
     "source": [
      "Looks pretty good. There's a small difference in delay, but probably nothing major, especially since we're mostly interested in the magnitude response of the filters."
     ]
    },
    {
     "cell_type": "code",
     "collapsed": false,
     "input": [
      "o = np.ones(fs)\n",
      "x = np.arange(fs) / fs.squeeze()\n",
      "imp_resp_gtm = gt.GammaToneApply(o, b_gtm, a_gtm)"
     ],
     "language": "python",
     "metadata": {},
     "outputs": [],
     "prompt_number": ""
    },
    {
     "cell_type": "code",
     "collapsed": false,
     "input": [
      "# We need to set the plot limits, they will not autoscale\n",
      "ax = axes()\n",
      "ax.set_xlim((0, 1))\n",
      "ax.set_ylim((np.min(np.min(imp_resp_gtm)),np.max(amax(imp_resp_gtm))))\n",
      "\n",
      "line_segments = LineCollection([list(zip(x,y)) for y in imp_resp_gtm])\n",
      "line_segments.set_array(x)\n",
      "ax.add_collection(line_segments)\n",
      "fig = gcf()\n",
      "ax.set_xlim([0,0.2])"
     ],
     "language": "python",
     "metadata": {},
     "outputs": [],
     "prompt_number": ""
    },
    {
     "cell_type": "code",
     "collapsed": false,
     "input": [
      "plot(x,imp_resp_gtm[12])\n",
      "xlim((0,0.03))\n",
      "xlabel('Time [s]')"
     ],
     "language": "python",
     "metadata": {},
     "outputs": [],
     "prompt_number": ""
    },
    {
     "cell_type": "markdown",
     "metadata": {},
     "source": [
      "Now if we look directly at the impulse response:"
     ]
    },
    {
     "cell_type": "code",
     "collapsed": false,
     "input": [
      "len = 22050\n",
      "f0 = midfreq[12]  # 1 kHz\n",
      "b = 130"
     ],
     "language": "python",
     "metadata": {},
     "outputs": [],
     "prompt_number": ""
    },
    {
     "cell_type": "code",
     "collapsed": false,
     "input": [
      "a = -2*pi*b\n",
      "t = np.arange(len)/len\n",
      "g = t ** 3 * np.exp(a*t) * np.cos(2*pi*f0*t)\n",
      "g = 1./scale * g"
     ],
     "language": "python",
     "metadata": {},
     "outputs": [],
     "prompt_number": ""
    },
    {
     "cell_type": "code",
     "collapsed": false,
     "input": [
      "plot(t,g)\n",
      "xlim((0, 0.03))"
     ],
     "language": "python",
     "metadata": {},
     "outputs": [],
     "prompt_number": ""
    },
    {
     "cell_type": "markdown",
     "metadata": {},
     "source": [
      "All right... they're not _exactly_ the same, but they have the same length. The scaling is completely off though."
     ]
    },
    {
     "cell_type": "markdown",
     "metadata": {},
     "source": [
      "# Filtering of delta pulse"
     ]
    },
    {
     "cell_type": "markdown",
     "metadata": {},
     "source": [
      "Mostly to check the scaling."
     ]
    },
    {
     "cell_type": "code",
     "collapsed": false,
     "input": [
      "fs = 22050.0\n",
      "delta = np.zeros(fs)\n",
      "delta[0] = 1\n",
      "f0 = midfreq  # 1 kHz"
     ],
     "language": "python",
     "metadata": {},
     "outputs": [],
     "prompt_number": ""
    },
    {
     "cell_type": "code",
     "collapsed": false,
     "input": [
      "b_gtm, a_gtm, _, _, _ = gt.GammaToneMake(22050, f0)\n",
      "y2 = gt.GammaToneApply(delta, b_gtm, a_gtm)"
     ],
     "language": "python",
     "metadata": {},
     "outputs": [],
     "prompt_number": ""
    },
    {
     "cell_type": "code",
     "collapsed": false,
     "input": [
      "plot(y2[12,0:1000])"
     ],
     "language": "python",
     "metadata": {},
     "outputs": [],
     "prompt_number": ""
    },
    {
     "cell_type": "markdown",
     "metadata": {},
     "source": [
      "I just checked the output using the following Matlab code and indeed, for some reason, the impulse response in Python is _half_ the impulse response in Matlab."
     ]
    },
    {
     "cell_type": "markdown",
     "metadata": {},
     "source": [
      "```matlab \n",
      "x = zeroes(22050, 1);\n",
      "x(1) = 1;\n",
      "g = gammatonefir(1000, 22050, 'complex') \n",
      "tmp = 2 * real(ufilterbank(x, g, 1));\n",
      "plot(tmp(1:1000))\n",
      "```"
     ]
    },
    {
     "cell_type": "markdown",
     "metadata": {},
     "source": [
      "!! Here's the factor two! Seriously, why do that?"
     ]
    }
   ],
   "metadata": {}
  }
 ]
}